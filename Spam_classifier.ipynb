{
  "nbformat": 4,
  "nbformat_minor": 0,
  "metadata": {
    "colab": {
      "provenance": [],
      "mount_file_id": "1IcgIys5Ko0P31kcRMe988eO-nBkRz3OC",
      "authorship_tag": "ABX9TyOOxJuEuNYYUYIo9uhStYRa",
      "include_colab_link": true
    },
    "kernelspec": {
      "name": "python3",
      "display_name": "Python 3"
    },
    "language_info": {
      "name": "python"
    }
  },
  "cells": [
    {
      "cell_type": "markdown",
      "metadata": {
        "id": "view-in-github",
        "colab_type": "text"
      },
      "source": [
        "<a href=\"https://colab.research.google.com/github/amitabh16kgpian/Machine-Learning-Projects/blob/main/Spam_classifier.ipynb\" target=\"_parent\"><img src=\"https://colab.research.google.com/assets/colab-badge.svg\" alt=\"Open In Colab\"/></a>"
      ]
    },
    {
      "cell_type": "code",
      "execution_count": 41,
      "metadata": {
        "id": "8OP_w91FmhLo"
      },
      "outputs": [],
      "source": [
        "import nltk"
      ]
    },
    {
      "cell_type": "code",
      "source": [
        "import pandas as pd"
      ],
      "metadata": {
        "id": "jkyjVQvdmoR5"
      },
      "execution_count": 42,
      "outputs": []
    },
    {
      "cell_type": "code",
      "source": [
        "import numpy as np"
      ],
      "metadata": {
        "id": "8IhVIBZVmwfl"
      },
      "execution_count": 43,
      "outputs": []
    },
    {
      "cell_type": "code",
      "source": [
        "from nltk.stem import PorterStemmer\n",
        "from nltk.stem import WordNetLemmatizer"
      ],
      "metadata": {
        "id": "4FDU-sJvmy7q"
      },
      "execution_count": 44,
      "outputs": []
    },
    {
      "cell_type": "code",
      "source": [
        "import re\n",
        "from nltk.corpus import stopwords"
      ],
      "metadata": {
        "id": "JmAGM3U4m9X3"
      },
      "execution_count": 45,
      "outputs": []
    },
    {
      "cell_type": "code",
      "source": [
        "df = pd.read_csv('/content/drive/MyDrive/SMSSpamCollection', sep='\\t', names =[\"label\",\"message\"])"
      ],
      "metadata": {
        "id": "gUlNdaShovtx"
      },
      "execution_count": 46,
      "outputs": []
    },
    {
      "cell_type": "code",
      "source": [],
      "metadata": {
        "id": "jFJlOl7vr-JM"
      },
      "execution_count": null,
      "outputs": []
    },
    {
      "cell_type": "code",
      "source": [
        "print(df)"
      ],
      "metadata": {
        "colab": {
          "base_uri": "https://localhost:8080/"
        },
        "id": "j6DXdaBoqbwD",
        "outputId": "7a46eb59-c827-4816-9026-e9df57a19056"
      },
      "execution_count": 48,
      "outputs": [
        {
          "output_type": "stream",
          "name": "stdout",
          "text": [
            "     label                                            message\n",
            "0      ham  Go until jurong point, crazy.. Available only ...\n",
            "1      ham                      Ok lar... Joking wif u oni...\n",
            "2     spam  Free entry in 2 a wkly comp to win FA Cup fina...\n",
            "3      ham  U dun say so early hor... U c already then say...\n",
            "4      ham  Nah I don't think he goes to usf, he lives aro...\n",
            "...    ...                                                ...\n",
            "5567  spam  This is the 2nd time we have tried 2 contact u...\n",
            "5568   ham               Will ü b going to esplanade fr home?\n",
            "5569   ham  Pity, * was in mood for that. So...any other s...\n",
            "5570   ham  The guy did some bitching but I acted like i'd...\n",
            "5571   ham                         Rofl. Its true to its name\n",
            "\n",
            "[5572 rows x 2 columns]\n"
          ]
        }
      ]
    },
    {
      "cell_type": "code",
      "source": [
        "len(df)\n",
        "corpus =[]"
      ],
      "metadata": {
        "id": "HWEQyl5wqlSA"
      },
      "execution_count": 49,
      "outputs": []
    },
    {
      "cell_type": "code",
      "source": [
        "#Cleaning the text"
      ],
      "metadata": {
        "id": "3z3o3GBUv-ls"
      },
      "execution_count": 50,
      "outputs": []
    },
    {
      "cell_type": "code",
      "source": [
        "for i in range((len(df))):\n",
        "  review = re.sub('[^a-zA-Z]',' ' ,df['message'][i])\n",
        "  review = review.lower()\n",
        "  review = review.split()\n",
        "  review = [PorterStemmer().stem(word) for word in review if word not in set(stopwords.words('english'))]\n",
        "  review = ' '.join(review)\n",
        "  corpus.append(review)"
      ],
      "metadata": {
        "id": "1PzoELlNwMP8"
      },
      "execution_count": 51,
      "outputs": []
    },
    {
      "cell_type": "code",
      "source": [
        "print(df)"
      ],
      "metadata": {
        "colab": {
          "base_uri": "https://localhost:8080/"
        },
        "id": "ES8tHDXQwMvm",
        "outputId": "539c1c4f-4b86-435d-9eb5-ab551e4f4381"
      },
      "execution_count": 26,
      "outputs": [
        {
          "output_type": "stream",
          "name": "stdout",
          "text": [
            "     label                                            message\n",
            "0      ham  go jurong point crazi avail bugi n great world...\n",
            "1      ham                              ok lar joke wif u oni\n",
            "2     spam  free entri wkli comp win fa cup final tkt st m...\n",
            "3      ham                u dun say earli hor u c alreadi say\n",
            "4      ham               nah think goe usf live around though\n",
            "...    ...                                                ...\n",
            "5567  spam  nd time tri contact u u pound prize claim easi...\n",
            "5568   ham                              b go esplanad fr home\n",
            "5569   ham                                  piti mood suggest\n",
            "5570   ham  guy bitch act like interest buy someth els nex...\n",
            "5571   ham                                     rofl true name\n",
            "\n",
            "[5572 rows x 2 columns]\n"
          ]
        }
      ]
    },
    {
      "cell_type": "code",
      "source": [
        "df['label'] = df['label'].replace(to_replace = 'spam',value=1)"
      ],
      "metadata": {
        "id": "E__HYMVR1tZc"
      },
      "execution_count": 52,
      "outputs": []
    },
    {
      "cell_type": "code",
      "source": [
        "df['label'] = df['label'].replace(to_replace = 'ham',value=0)\n"
      ],
      "metadata": {
        "id": "GD3vqb0r5NhD"
      },
      "execution_count": 53,
      "outputs": []
    },
    {
      "cell_type": "code",
      "source": [
        "print(df)"
      ],
      "metadata": {
        "colab": {
          "base_uri": "https://localhost:8080/"
        },
        "id": "meoUAKQK5Ube",
        "outputId": "fd4c81d6-25f0-4a5b-ddef-b3783ef2a6e3"
      },
      "execution_count": 54,
      "outputs": [
        {
          "output_type": "stream",
          "name": "stdout",
          "text": [
            "      label                                            message\n",
            "0         0  Go until jurong point, crazy.. Available only ...\n",
            "1         0                      Ok lar... Joking wif u oni...\n",
            "2         1  Free entry in 2 a wkly comp to win FA Cup fina...\n",
            "3         0  U dun say so early hor... U c already then say...\n",
            "4         0  Nah I don't think he goes to usf, he lives aro...\n",
            "...     ...                                                ...\n",
            "5567      1  This is the 2nd time we have tried 2 contact u...\n",
            "5568      0               Will ü b going to esplanade fr home?\n",
            "5569      0  Pity, * was in mood for that. So...any other s...\n",
            "5570      0  The guy did some bitching but I acted like i'd...\n",
            "5571      0                         Rofl. Its true to its name\n",
            "\n",
            "[5572 rows x 2 columns]\n"
          ]
        }
      ]
    },
    {
      "cell_type": "code",
      "source": [],
      "metadata": {
        "id": "E53hgCbC7YIJ"
      },
      "execution_count": null,
      "outputs": []
    },
    {
      "cell_type": "code",
      "source": [
        "import sklearn\n",
        "from sklearn.feature_extraction.text import CountVectorizer\n",
        "X = CountVectorizer(max_features = 5000).fit_transform(corpus).toarray()"
      ],
      "metadata": {
        "id": "7F4EWglz663U"
      },
      "execution_count": 56,
      "outputs": []
    },
    {
      "cell_type": "code",
      "source": [
        "Y = df['label']"
      ],
      "metadata": {
        "id": "X__3whse72zS"
      },
      "execution_count": 57,
      "outputs": []
    },
    {
      "cell_type": "code",
      "source": [
        "print(X,Y)"
      ],
      "metadata": {
        "colab": {
          "base_uri": "https://localhost:8080/"
        },
        "id": "8im5ZTHm5lpn",
        "outputId": "372516ac-c629-4f1b-c452-57ded4b023a4"
      },
      "execution_count": 58,
      "outputs": [
        {
          "output_type": "stream",
          "name": "stdout",
          "text": [
            "[[0 0 0 ... 0 0 0]\n",
            " [0 0 0 ... 0 0 0]\n",
            " [0 0 0 ... 0 0 0]\n",
            " ...\n",
            " [0 0 0 ... 0 0 0]\n",
            " [0 0 0 ... 0 0 0]\n",
            " [0 0 0 ... 0 0 0]] 0       0\n",
            "1       0\n",
            "2       1\n",
            "3       0\n",
            "4       0\n",
            "       ..\n",
            "5567    1\n",
            "5568    0\n",
            "5569    0\n",
            "5570    0\n",
            "5571    0\n",
            "Name: label, Length: 5572, dtype: int64\n"
          ]
        }
      ]
    },
    {
      "cell_type": "code",
      "source": [
        "print(X)"
      ],
      "metadata": {
        "colab": {
          "base_uri": "https://localhost:8080/"
        },
        "id": "LzpokqpV8uR9",
        "outputId": "675ae13d-7281-4ef7-f1e3-d028f6100494"
      },
      "execution_count": 59,
      "outputs": [
        {
          "output_type": "stream",
          "name": "stdout",
          "text": [
            "[[0 0 0 ... 0 0 0]\n",
            " [0 0 0 ... 0 0 0]\n",
            " [0 0 0 ... 0 0 0]\n",
            " ...\n",
            " [0 0 0 ... 0 0 0]\n",
            " [0 0 0 ... 0 0 0]\n",
            " [0 0 0 ... 0 0 0]]\n"
          ]
        }
      ]
    },
    {
      "cell_type": "code",
      "source": [
        "X.shape"
      ],
      "metadata": {
        "colab": {
          "base_uri": "https://localhost:8080/"
        },
        "id": "jtCis8JM8AKf",
        "outputId": "a8512cee-1d78-41a4-998e-c4e02bafb48f"
      },
      "execution_count": 61,
      "outputs": [
        {
          "output_type": "execute_result",
          "data": {
            "text/plain": [
              "(5572, 5000)"
            ]
          },
          "metadata": {},
          "execution_count": 61
        }
      ]
    },
    {
      "cell_type": "code",
      "source": [
        "from sklearn.model_selection import train_test_split\n",
        "X_train,X_test,Y_train,Y_test = train_test_split(X,Y,test_size = 0.2,random_state= 0)"
      ],
      "metadata": {
        "id": "3r8ANK809yDL"
      },
      "execution_count": 62,
      "outputs": []
    },
    {
      "cell_type": "code",
      "source": [
        "from sklearn.naive_bayes import MultinomialNB\n",
        "spam_detect_model = MultinomialNB().fit(X_train,Y_train)"
      ],
      "metadata": {
        "id": "edOnP5vR-9t6"
      },
      "execution_count": 65,
      "outputs": []
    },
    {
      "cell_type": "code",
      "source": [
        "y_pred = spam_detect_model.predict(X_test)"
      ],
      "metadata": {
        "id": "6AZb8I81_Nw4"
      },
      "execution_count": 66,
      "outputs": []
    },
    {
      "cell_type": "code",
      "source": [
        "from sklearn.metrics import accuracy_score\n",
        "accuracy = accuracy_score(Y_test,y_pred)"
      ],
      "metadata": {
        "id": "4SNxmPz-_dmd"
      },
      "execution_count": 68,
      "outputs": []
    },
    {
      "cell_type": "code",
      "source": [
        "print(accuracy)"
      ],
      "metadata": {
        "colab": {
          "base_uri": "https://localhost:8080/"
        },
        "id": "SWMAOm11_ym7",
        "outputId": "e5759fbd-829a-47e5-a75e-a35566f01c8e"
      },
      "execution_count": 69,
      "outputs": [
        {
          "output_type": "stream",
          "name": "stdout",
          "text": [
            "0.9847533632286996\n"
          ]
        }
      ]
    },
    {
      "cell_type": "code",
      "source": [],
      "metadata": {
        "id": "6oTqX3sy_3e9"
      },
      "execution_count": null,
      "outputs": []
    }
  ]
}